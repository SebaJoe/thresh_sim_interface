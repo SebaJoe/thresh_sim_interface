{
 "cells": [
  {
   "cell_type": "code",
   "execution_count": 2,
   "metadata": {},
   "outputs": [],
   "source": [
    "import pandas as pd\n",
    "import openai\n",
    "from dotenv import load_dotenv\n",
    "import json\n",
    "import os"
   ]
  },
  {
   "cell_type": "code",
   "execution_count": 3,
   "metadata": {},
   "outputs": [],
   "source": [
    "load_dotenv()\n",
    "openai.api_key = os.getenv(\"OPENAI_API_KEY\")"
   ]
  },
  {
   "cell_type": "code",
   "execution_count": 4,
   "metadata": {},
   "outputs": [],
   "source": [
    "#load data\n",
    "df = pd.read_csv('end_res.csv')\n"
   ]
  },
  {
   "cell_type": "code",
   "execution_count": 5,
   "metadata": {},
   "outputs": [],
   "source": [
    "def sim_gen(abs):\n",
    "    sys_prompt = \"Given a medical abstract, generate a simplified version that anyone can understand.\"\n",
    "    \n",
    "    response = openai.ChatCompletion.create(\n",
    "        model='gpt-4', \n",
    "        messages=[\n",
    "            {\"role\": \"system\", \"content\": sys_prompt},\n",
    "            {\"role\": \"user\", \"content\": \"Medical abstract:\\n\\n{}\\n\".format(abs)}\n",
    "        ]\n",
    "    )\n",
    "    \n",
    "    return response['choices'][0]['message']['content']"
   ]
  },
  {
   "cell_type": "code",
   "execution_count": 6,
   "metadata": {},
   "outputs": [],
   "source": [
    "df['simplification'] = df.apply(lambda x: sim_gen(x.Abstract), axis=1)"
   ]
  },
  {
   "cell_type": "code",
   "execution_count": 7,
   "metadata": {},
   "outputs": [],
   "source": [
    "df.to_csv('end_res_sim.csv')"
   ]
  },
  {
   "cell_type": "code",
   "execution_count": 8,
   "metadata": {},
   "outputs": [
    {
     "data": {
      "text/html": [
       "<div>\n",
       "<style scoped>\n",
       "    .dataframe tbody tr th:only-of-type {\n",
       "        vertical-align: middle;\n",
       "    }\n",
       "\n",
       "    .dataframe tbody tr th {\n",
       "        vertical-align: top;\n",
       "    }\n",
       "\n",
       "    .dataframe thead th {\n",
       "        text-align: right;\n",
       "    }\n",
       "</style>\n",
       "<table border=\"1\" class=\"dataframe\">\n",
       "  <thead>\n",
       "    <tr style=\"text-align: right;\">\n",
       "      <th></th>\n",
       "      <th>Abstract</th>\n",
       "      <th>simplification</th>\n",
       "    </tr>\n",
       "  </thead>\n",
       "  <tbody>\n",
       "    <tr>\n",
       "      <th>0</th>\n",
       "      <td>ABSTRACT.BACKGROUND: Antibiotics are overused ...</td>\n",
       "      <td>Simple Explanation:\\n\\nAntibiotics are sometim...</td>\n",
       "    </tr>\n",
       "    <tr>\n",
       "      <th>1</th>\n",
       "      <td>ABSTRACT.BACKGROUND: Minimal hepatic encephalo...</td>\n",
       "      <td>Simplified version:\\n\\nThis study was about a ...</td>\n",
       "    </tr>\n",
       "    <tr>\n",
       "      <th>2</th>\n",
       "      <td>ABSTRACT.OBJECTIVE: To determine whether glarg...</td>\n",
       "      <td>Simple explanation:\\n\\nThe aim of this study w...</td>\n",
       "    </tr>\n",
       "    <tr>\n",
       "      <th>3</th>\n",
       "      <td>ABSTRACT.BACKGROUND: ACE inhibition results in...</td>\n",
       "      <td>Simplified version:\\n\\nThis study was about a ...</td>\n",
       "    </tr>\n",
       "    <tr>\n",
       "      <th>4</th>\n",
       "      <td>ABSTRACT.BACKGROUND:: Oral isotretinoin is hig...</td>\n",
       "      <td>Simplified version:\\n\\nThe study focuses on th...</td>\n",
       "    </tr>\n",
       "  </tbody>\n",
       "</table>\n",
       "</div>"
      ],
      "text/plain": [
       "                                            Abstract  \\\n",
       "0  ABSTRACT.BACKGROUND: Antibiotics are overused ...   \n",
       "1  ABSTRACT.BACKGROUND: Minimal hepatic encephalo...   \n",
       "2  ABSTRACT.OBJECTIVE: To determine whether glarg...   \n",
       "3  ABSTRACT.BACKGROUND: ACE inhibition results in...   \n",
       "4  ABSTRACT.BACKGROUND:: Oral isotretinoin is hig...   \n",
       "\n",
       "                                      simplification  \n",
       "0  Simple Explanation:\\n\\nAntibiotics are sometim...  \n",
       "1  Simplified version:\\n\\nThis study was about a ...  \n",
       "2  Simple explanation:\\n\\nThe aim of this study w...  \n",
       "3  Simplified version:\\n\\nThis study was about a ...  \n",
       "4  Simplified version:\\n\\nThe study focuses on th...  "
      ]
     },
     "execution_count": 8,
     "metadata": {},
     "output_type": "execute_result"
    }
   ],
   "source": [
    "df[['Abstract', 'simplification']]"
   ]
  },
  {
   "cell_type": "code",
   "execution_count": 15,
   "metadata": {},
   "outputs": [
    {
     "data": {
      "text/plain": [
       "'re was reduced from 6.3 to 4.5 days under PCT guidance (−1.8 days; 95% CI −3.1, −0.5; P = 0.039) for all LRTI and from 9.1 to 5.7 days '"
      ]
     },
     "execution_count": 15,
     "metadata": {},
     "output_type": "execute_result"
    }
   ],
   "source": [
    "df['Abstract'][0][df['Evidence Start'][0].item():df['Evidence End'][0].item()]"
   ]
  },
  {
   "cell_type": "code",
   "execution_count": 16,
   "metadata": {},
   "outputs": [
    {
     "data": {
      "text/plain": [
       "'Antibiotic prescribing rates were not significantly different in PCT guided patients compared to controls (OR 1.26; 95% CI 0.81, 1.95).'"
      ]
     },
     "execution_count": 16,
     "metadata": {},
     "output_type": "execute_result"
    }
   ],
   "source": [
    "df['Annotations'][0]"
   ]
  },
  {
   "cell_type": "code",
   "execution_count": 17,
   "metadata": {},
   "outputs": [
    {
     "data": {
      "text/html": [
       "<div>\n",
       "<style scoped>\n",
       "    .dataframe tbody tr th:only-of-type {\n",
       "        vertical-align: middle;\n",
       "    }\n",
       "\n",
       "    .dataframe tbody tr th {\n",
       "        vertical-align: top;\n",
       "    }\n",
       "\n",
       "    .dataframe thead th {\n",
       "        text-align: right;\n",
       "    }\n",
       "</style>\n",
       "<table border=\"1\" class=\"dataframe\">\n",
       "  <thead>\n",
       "    <tr style=\"text-align: right;\">\n",
       "      <th></th>\n",
       "      <th>Unnamed: 0</th>\n",
       "      <th>UserID</th>\n",
       "      <th>PromptID</th>\n",
       "      <th>PMCID</th>\n",
       "      <th>Valid Label</th>\n",
       "      <th>Valid Reasoning</th>\n",
       "      <th>Label</th>\n",
       "      <th>Annotations</th>\n",
       "      <th>Label Code</th>\n",
       "      <th>In Abstract</th>\n",
       "      <th>Evidence Start</th>\n",
       "      <th>Evidence End</th>\n",
       "      <th>Abstract</th>\n",
       "      <th>to_drop</th>\n",
       "      <th>simplification</th>\n",
       "    </tr>\n",
       "  </thead>\n",
       "  <tbody>\n",
       "    <tr>\n",
       "      <th>0</th>\n",
       "      <td>1</td>\n",
       "      <td>0</td>\n",
       "      <td>2193</td>\n",
       "      <td>3735552</td>\n",
       "      <td>True</td>\n",
       "      <td>True</td>\n",
       "      <td>no significant difference</td>\n",
       "      <td>Antibiotic prescribing rates were not signific...</td>\n",
       "      <td>0</td>\n",
       "      <td>True</td>\n",
       "      <td>1076</td>\n",
       "      <td>1211</td>\n",
       "      <td>ABSTRACT.BACKGROUND: Antibiotics are overused ...</td>\n",
       "      <td>True</td>\n",
       "      <td>Simple Explanation:\\n\\nAntibiotics are sometim...</td>\n",
       "    </tr>\n",
       "    <tr>\n",
       "      <th>1</th>\n",
       "      <td>3</td>\n",
       "      <td>0</td>\n",
       "      <td>6921</td>\n",
       "      <td>5636096</td>\n",
       "      <td>True</td>\n",
       "      <td>True</td>\n",
       "      <td>significantly increased</td>\n",
       "      <td>The patients with an abnormal CRT index who we...</td>\n",
       "      <td>1</td>\n",
       "      <td>True</td>\n",
       "      <td>1551</td>\n",
       "      <td>1720</td>\n",
       "      <td>ABSTRACT.BACKGROUND: Minimal hepatic encephalo...</td>\n",
       "      <td>True</td>\n",
       "      <td>Simplified version:\\n\\nThis study was about a ...</td>\n",
       "    </tr>\n",
       "    <tr>\n",
       "      <th>2</th>\n",
       "      <td>7</td>\n",
       "      <td>0</td>\n",
       "      <td>78</td>\n",
       "      <td>2875419</td>\n",
       "      <td>True</td>\n",
       "      <td>True</td>\n",
       "      <td>no significant difference</td>\n",
       "      <td>Improvements in A1C were −1.46 ± 1.09% for gla...</td>\n",
       "      <td>0</td>\n",
       "      <td>True</td>\n",
       "      <td>834</td>\n",
       "      <td>927</td>\n",
       "      <td>ABSTRACT.OBJECTIVE: To determine whether glarg...</td>\n",
       "      <td>True</td>\n",
       "      <td>Simple explanation:\\n\\nThe aim of this study w...</td>\n",
       "    </tr>\n",
       "    <tr>\n",
       "      <th>3</th>\n",
       "      <td>34</td>\n",
       "      <td>0</td>\n",
       "      <td>10783</td>\n",
       "      <td>2039813</td>\n",
       "      <td>True</td>\n",
       "      <td>True</td>\n",
       "      <td>no significant difference</td>\n",
       "      <td>The rate of change in FMD per 6 months was 0.1...</td>\n",
       "      <td>0</td>\n",
       "      <td>True</td>\n",
       "      <td>1281</td>\n",
       "      <td>1458</td>\n",
       "      <td>ABSTRACT.BACKGROUND: ACE inhibition results in...</td>\n",
       "      <td>True</td>\n",
       "      <td>Simplified version:\\n\\nThis study was about a ...</td>\n",
       "    </tr>\n",
       "    <tr>\n",
       "      <th>4</th>\n",
       "      <td>36</td>\n",
       "      <td>1</td>\n",
       "      <td>11954</td>\n",
       "      <td>5038098</td>\n",
       "      <td>True</td>\n",
       "      <td>True</td>\n",
       "      <td>no significant difference</td>\n",
       "      <td>At the end of therapy, decrease in the total a...</td>\n",
       "      <td>0</td>\n",
       "      <td>True</td>\n",
       "      <td>780</td>\n",
       "      <td>1016</td>\n",
       "      <td>ABSTRACT.BACKGROUND:: Oral isotretinoin is hig...</td>\n",
       "      <td>True</td>\n",
       "      <td>Simplified version:\\n\\nThe study focuses on th...</td>\n",
       "    </tr>\n",
       "  </tbody>\n",
       "</table>\n",
       "</div>"
      ],
      "text/plain": [
       "   Unnamed: 0  UserID  PromptID    PMCID  Valid Label  Valid Reasoning  \\\n",
       "0           1       0      2193  3735552         True             True   \n",
       "1           3       0      6921  5636096         True             True   \n",
       "2           7       0        78  2875419         True             True   \n",
       "3          34       0     10783  2039813         True             True   \n",
       "4          36       1     11954  5038098         True             True   \n",
       "\n",
       "                       Label  \\\n",
       "0  no significant difference   \n",
       "1    significantly increased   \n",
       "2  no significant difference   \n",
       "3  no significant difference   \n",
       "4  no significant difference   \n",
       "\n",
       "                                         Annotations  Label Code  In Abstract  \\\n",
       "0  Antibiotic prescribing rates were not signific...           0         True   \n",
       "1  The patients with an abnormal CRT index who we...           1         True   \n",
       "2  Improvements in A1C were −1.46 ± 1.09% for gla...           0         True   \n",
       "3  The rate of change in FMD per 6 months was 0.1...           0         True   \n",
       "4  At the end of therapy, decrease in the total a...           0         True   \n",
       "\n",
       "   Evidence Start  Evidence End  \\\n",
       "0            1076          1211   \n",
       "1            1551          1720   \n",
       "2             834           927   \n",
       "3            1281          1458   \n",
       "4             780          1016   \n",
       "\n",
       "                                            Abstract  to_drop  \\\n",
       "0  ABSTRACT.BACKGROUND: Antibiotics are overused ...     True   \n",
       "1  ABSTRACT.BACKGROUND: Minimal hepatic encephalo...     True   \n",
       "2  ABSTRACT.OBJECTIVE: To determine whether glarg...     True   \n",
       "3  ABSTRACT.BACKGROUND: ACE inhibition results in...     True   \n",
       "4  ABSTRACT.BACKGROUND:: Oral isotretinoin is hig...     True   \n",
       "\n",
       "                                      simplification  \n",
       "0  Simple Explanation:\\n\\nAntibiotics are sometim...  \n",
       "1  Simplified version:\\n\\nThis study was about a ...  \n",
       "2  Simple explanation:\\n\\nThe aim of this study w...  \n",
       "3  Simplified version:\\n\\nThis study was about a ...  \n",
       "4  Simplified version:\\n\\nThe study focuses on th...  "
      ]
     },
     "execution_count": 17,
     "metadata": {},
     "output_type": "execute_result"
    }
   ],
   "source": [
    "df.head()"
   ]
  },
  {
   "cell_type": "code",
   "execution_count": 21,
   "metadata": {},
   "outputs": [],
   "source": [
    "new_data = []\n",
    "for ind, row in df.iterrows():\n",
    "    entry = {\n",
    "        \"source\": row['Abstract'].replace(\"<\", \"&lt;\").replace(\">\", \"&gt;\"),\n",
    "        \"target\": row['simplification'].replace(\"<\", \"&lt;\").replace(\">\", \"&gt;\"),\n",
    "        \"edits\": [\n",
    "            {\n",
    "                \"category\": \"hol_eval\",\n",
    "                \"id\": 0\n",
    "            },\n",
    "            {\n",
    "                \"category\": \"final_q\",\n",
    "                \"id\": 1\n",
    "            },\n",
    "            {\n",
    "                \"category\": \"pico_pop\",\n",
    "                \"id\": 2\n",
    "            },\n",
    "            {\n",
    "                \"category\": \"pico_inter\",\n",
    "                \"id\": 3\n",
    "            },\n",
    "            {\n",
    "                \"category\": \"pico_comp\",\n",
    "                \"id\": 4\n",
    "            },\n",
    "            {\n",
    "                \"category\": \"pico_out\",\n",
    "                \"id\": 5\n",
    "            },\n",
    "            {\n",
    "                \"category\": \"results\",\n",
    "                \"id\": 6,\n",
    "                \"input_idx\": [\n",
    "                    [\n",
    "                        row['Abstract'].replace(\"<\", \"&lt;\").replace(\">\", \"&gt;\").find(row['Annotations'].replace(\"<\", \"&lt;\").replace(\">\", \"&gt;\")),\n",
    "                        row['Abstract'].replace(\"<\", \"&lt;\").replace(\">\", \"&gt;\").find(row['Annotations'].replace(\"<\", \"&lt;\").replace(\">\", \"&gt;\"))+len(row[\"Annotations\"].replace(\"<\", \"&lt;\").replace(\">\", \"&gt;\"))\n",
    "                    ]\n",
    "                ]\n",
    "            }\n",
    "        ]   \n",
    "    }\n",
    "    new_data.append(entry)"
   ]
  },
  {
   "cell_type": "code",
   "execution_count": 22,
   "metadata": {},
   "outputs": [],
   "source": [
    "with open('results_test.json', 'w') as d:\n",
    "    json.dump(new_data, d, indent=4)"
   ]
  },
  {
   "cell_type": "code",
   "execution_count": null,
   "metadata": {},
   "outputs": [],
   "source": []
  }
 ],
 "metadata": {
  "kernelspec": {
   "display_name": ".venv",
   "language": "python",
   "name": "python3"
  },
  "language_info": {
   "codemirror_mode": {
    "name": "ipython",
    "version": 3
   },
   "file_extension": ".py",
   "mimetype": "text/x-python",
   "name": "python",
   "nbconvert_exporter": "python",
   "pygments_lexer": "ipython3",
   "version": "3.9.14"
  },
  "orig_nbformat": 4
 },
 "nbformat": 4,
 "nbformat_minor": 2
}
