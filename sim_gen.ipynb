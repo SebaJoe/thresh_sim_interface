{
 "cells": [
  {
   "cell_type": "code",
   "execution_count": 2,
   "metadata": {},
   "outputs": [],
   "source": [
    "import pandas as pd\n",
    "import openai\n",
    "from dotenv import load_dotenv\n",
    "import json\n",
    "import os"
   ]
  },
  {
   "cell_type": "code",
   "execution_count": 3,
   "metadata": {},
   "outputs": [],
   "source": [
    "load_dotenv()\n",
    "openai.api_key = os.getenv(\"OPENAI_API_KEY\")"
   ]
  },
  {
   "cell_type": "code",
   "execution_count": 4,
   "metadata": {},
   "outputs": [],
   "source": [
    "#load data\n",
    "df = pd.read_csv('end_res.csv')\n"
   ]
  },
  {
   "cell_type": "code",
   "execution_count": 5,
   "metadata": {},
   "outputs": [],
   "source": [
    "def sim_gen(abs):\n",
    "    sys_prompt = \"Given a medical abstract, generate a simplified version that anyone can understand.\"\n",
    "    \n",
    "    response = openai.ChatCompletion.create(\n",
    "        model='gpt-4', \n",
    "        messages=[\n",
    "            {\"role\": \"system\", \"content\": sys_prompt},\n",
    "            {\"role\": \"user\", \"content\": \"Medical abstract:\\n\\n{}\\n\".format(abs)}\n",
    "        ]\n",
    "    )\n",
    "    \n",
    "    return response['choices'][0]['message']['content']"
   ]
  },
  {
   "cell_type": "code",
   "execution_count": 6,
   "metadata": {},
   "outputs": [],
   "source": [
    "df['simplification'] = df.apply(lambda x: sim_gen(x.Abstract), axis=1)"
   ]
  },
  {
   "cell_type": "code",
   "execution_count": 7,
   "metadata": {},
   "outputs": [],
   "source": [
    "df.to_csv('end_res_sim.csv')"
   ]
  },
  {
   "cell_type": "code",
   "execution_count": 8,
   "metadata": {},
   "outputs": [
    {
     "data": {
      "text/html": [
       "<div>\n",
       "<style scoped>\n",
       "    .dataframe tbody tr th:only-of-type {\n",
       "        vertical-align: middle;\n",
       "    }\n",
       "\n",
       "    .dataframe tbody tr th {\n",
       "        vertical-align: top;\n",
       "    }\n",
       "\n",
       "    .dataframe thead th {\n",
       "        text-align: right;\n",
       "    }\n",
       "</style>\n",
       "<table border=\"1\" class=\"dataframe\">\n",
       "  <thead>\n",
       "    <tr style=\"text-align: right;\">\n",
       "      <th></th>\n",
       "      <th>Abstract</th>\n",
       "      <th>simplification</th>\n",
       "    </tr>\n",
       "  </thead>\n",
       "  <tbody>\n",
       "    <tr>\n",
       "      <th>0</th>\n",
       "      <td>ABSTRACT.BACKGROUND: Antibiotics are overused ...</td>\n",
       "      <td>Simple Explanation:\\n\\nAntibiotics are sometim...</td>\n",
       "    </tr>\n",
       "    <tr>\n",
       "      <th>1</th>\n",
       "      <td>ABSTRACT.BACKGROUND: Minimal hepatic encephalo...</td>\n",
       "      <td>Simplified version:\\n\\nThis study was about a ...</td>\n",
       "    </tr>\n",
       "    <tr>\n",
       "      <th>2</th>\n",
       "      <td>ABSTRACT.OBJECTIVE: To determine whether glarg...</td>\n",
       "      <td>Simple explanation:\\n\\nThe aim of this study w...</td>\n",
       "    </tr>\n",
       "    <tr>\n",
       "      <th>3</th>\n",
       "      <td>ABSTRACT.BACKGROUND: ACE inhibition results in...</td>\n",
       "      <td>Simplified version:\\n\\nThis study was about a ...</td>\n",
       "    </tr>\n",
       "    <tr>\n",
       "      <th>4</th>\n",
       "      <td>ABSTRACT.BACKGROUND:: Oral isotretinoin is hig...</td>\n",
       "      <td>Simplified version:\\n\\nThe study focuses on th...</td>\n",
       "    </tr>\n",
       "  </tbody>\n",
       "</table>\n",
       "</div>"
      ],
      "text/plain": [
       "                                            Abstract  \\\n",
       "0  ABSTRACT.BACKGROUND: Antibiotics are overused ...   \n",
       "1  ABSTRACT.BACKGROUND: Minimal hepatic encephalo...   \n",
       "2  ABSTRACT.OBJECTIVE: To determine whether glarg...   \n",
       "3  ABSTRACT.BACKGROUND: ACE inhibition results in...   \n",
       "4  ABSTRACT.BACKGROUND:: Oral isotretinoin is hig...   \n",
       "\n",
       "                                      simplification  \n",
       "0  Simple Explanation:\\n\\nAntibiotics are sometim...  \n",
       "1  Simplified version:\\n\\nThis study was about a ...  \n",
       "2  Simple explanation:\\n\\nThe aim of this study w...  \n",
       "3  Simplified version:\\n\\nThis study was about a ...  \n",
       "4  Simplified version:\\n\\nThe study focuses on th...  "
      ]
     },
     "execution_count": 8,
     "metadata": {},
     "output_type": "execute_result"
    }
   ],
   "source": [
    "df[['Abstract', 'simplification']]"
   ]
  },
  {
   "cell_type": "code",
   "execution_count": 9,
   "metadata": {},
   "outputs": [],
   "source": [
    "new_data = []\n",
    "for ind, row in df.iterrows():\n",
    "    entry = {\n",
    "        \"source\": row['Abstract'],\n",
    "        \"target\": row['simplification'],\n",
    "        \"edits\": [\n",
    "            {\n",
    "                \"category\": \"hol_eval\",\n",
    "                \"id\": 0\n",
    "            },\n",
    "            {\n",
    "                \"category\": \"final_q\",\n",
    "                \"id\": 1\n",
    "            },\n",
    "            {\n",
    "                \"category\": \"pico_pop\",\n",
    "                \"id\": 2\n",
    "            },\n",
    "            {\n",
    "                \"category\": \"pico_inter\",\n",
    "                \"id\": 3\n",
    "            },\n",
    "            {\n",
    "                \"category\": \"pico_comp\",\n",
    "                \"id\": 4\n",
    "            },\n",
    "            {\n",
    "                \"category\": \"pico_out\",\n",
    "                \"id\": 5\n",
    "            },\n",
    "            {\n",
    "                \"category\": \"results\",\n",
    "                \"id\": 6,\n",
    "                \"input_idx\": [\n",
    "                    [\n",
    "                        row['Evidence Start'],\n",
    "                        row['Evidence End']\n",
    "                    ]\n",
    "                ]\n",
    "            }\n",
    "        ]   \n",
    "    }\n",
    "    new_data.append(entry)"
   ]
  },
  {
   "cell_type": "code",
   "execution_count": 10,
   "metadata": {},
   "outputs": [],
   "source": [
    "with open('results_test.json', 'w') as d:\n",
    "    json.dump(new_data, d, indent=4)"
   ]
  },
  {
   "cell_type": "code",
   "execution_count": null,
   "metadata": {},
   "outputs": [],
   "source": []
  }
 ],
 "metadata": {
  "kernelspec": {
   "display_name": ".venv",
   "language": "python",
   "name": "python3"
  },
  "language_info": {
   "codemirror_mode": {
    "name": "ipython",
    "version": 3
   },
   "file_extension": ".py",
   "mimetype": "text/x-python",
   "name": "python",
   "nbconvert_exporter": "python",
   "pygments_lexer": "ipython3",
   "version": "3.9.14"
  },
  "orig_nbformat": 4
 },
 "nbformat": 4,
 "nbformat_minor": 2
}
